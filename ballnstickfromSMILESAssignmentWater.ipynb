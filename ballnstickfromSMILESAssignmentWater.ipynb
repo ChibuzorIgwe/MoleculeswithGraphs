{
  "cells": [
    {
      "cell_type": "markdown",
      "metadata": {
        "id": "ztHwV0VgoZGV"
      },
      "source": [
        "\n",
        "# Basic Ball and Stick Models from SMILES\n"
      ]
    },
    {
      "cell_type": "code",
      "source": [
        "!pip install rdkit"
      ],
      "metadata": {
        "colab": {
          "base_uri": "https://localhost:8080/"
        },
        "id": "ZPFt6Z63o0ZD",
        "outputId": "511b89d6-34d0-474c-df43-c796acc2f7bc"
      },
      "execution_count": 2,
      "outputs": [
        {
          "output_type": "stream",
          "name": "stdout",
          "text": [
            "Collecting rdkit\n",
            "  Downloading rdkit-2025.3.6-cp312-cp312-manylinux_2_28_x86_64.whl.metadata (4.1 kB)\n",
            "Requirement already satisfied: numpy in /usr/local/lib/python3.12/dist-packages (from rdkit) (2.0.2)\n",
            "Requirement already satisfied: Pillow in /usr/local/lib/python3.12/dist-packages (from rdkit) (11.3.0)\n",
            "Downloading rdkit-2025.3.6-cp312-cp312-manylinux_2_28_x86_64.whl (36.1 MB)\n",
            "\u001b[2K   \u001b[90m━━━━━━━━━━━━━━━━━━━━━━━━━━━━━━━━━━━━━━━━\u001b[0m \u001b[32m36.1/36.1 MB\u001b[0m \u001b[31m68.3 MB/s\u001b[0m eta \u001b[36m0:00:00\u001b[0m\n",
            "\u001b[?25hInstalling collected packages: rdkit\n",
            "Successfully installed rdkit-2025.3.6\n"
          ]
        }
      ]
    },
    {
      "cell_type": "code",
      "source": [
        "!pip install py3Dmol"
      ],
      "metadata": {
        "colab": {
          "base_uri": "https://localhost:8080/"
        },
        "id": "brq66_tvpDYL",
        "outputId": "c5b83d05-93ac-4865-dcbf-48731883ec85"
      },
      "execution_count": 3,
      "outputs": [
        {
          "output_type": "stream",
          "name": "stdout",
          "text": [
            "Collecting py3Dmol\n",
            "  Downloading py3dmol-2.5.2-py2.py3-none-any.whl.metadata (2.1 kB)\n",
            "Downloading py3dmol-2.5.2-py2.py3-none-any.whl (7.2 kB)\n",
            "Installing collected packages: py3Dmol\n",
            "Successfully installed py3Dmol-2.5.2\n"
          ]
        }
      ]
    },
    {
      "cell_type": "code",
      "source": [
        "!pip install cirpy"
      ],
      "metadata": {
        "colab": {
          "base_uri": "https://localhost:8080/"
        },
        "id": "Smzr_QXIpM_G",
        "outputId": "9bb224b1-4ff9-4031-90f8-612c8f79fc2e"
      },
      "execution_count": 4,
      "outputs": [
        {
          "output_type": "stream",
          "name": "stdout",
          "text": [
            "Collecting cirpy\n",
            "  Downloading CIRpy-1.0.2.tar.gz (20 kB)\n",
            "  Preparing metadata (setup.py) ... \u001b[?25l\u001b[?25hdone\n",
            "Building wheels for collected packages: cirpy\n",
            "  Building wheel for cirpy (setup.py) ... \u001b[?25l\u001b[?25hdone\n",
            "  Created wheel for cirpy: filename=CIRpy-1.0.2-py3-none-any.whl size=7263 sha256=f3d17acbb8d20bac9e38bebf48ecef0c13ca6f5f9cba09c280b3078992f3b9b8\n",
            "  Stored in directory: /root/.cache/pip/wheels/af/e9/40/07942590380fbfa8fdfc46197f440ecb58eeddbea4f07758be\n",
            "Successfully built cirpy\n",
            "Installing collected packages: cirpy\n",
            "Successfully installed cirpy-1.0.2\n"
          ]
        }
      ]
    },
    {
      "cell_type": "code",
      "execution_count": 5,
      "metadata": {
        "id": "ph4GbqMMoZGX"
      },
      "outputs": [],
      "source": [
        "from rdkit import Chem\n",
        "from rdkit.Chem.Draw import IPythonConsole\n",
        "from rdkit.Chem import AllChem\n",
        "import py3Dmol\n",
        "import cirpy\n"
      ]
    },
    {
      "cell_type": "markdown",
      "metadata": {
        "id": "-RqHmG_doZGZ"
      },
      "source": [
        "# Retrieve SMILES string given the name of a molecule using `cirpy`\n",
        "\n",
        "# **Create for Water**"
      ]
    },
    {
      "cell_type": "code",
      "execution_count": 6,
      "metadata": {
        "colab": {
          "base_uri": "https://localhost:8080/",
          "height": 167
        },
        "id": "EQVrwiYyoZGa",
        "outputId": "5e1d57bc-2615-4413-bd8f-83fd1e176746"
      },
      "outputs": [
        {
          "output_type": "execute_result",
          "data": {
            "text/plain": [
              "<rdkit.Chem.rdchem.Mol at 0x7b9fabdb8510>"
            ],
            "image/png": "[encoded data removed]"
          },
          "metadata": {},
          "execution_count": 6
        }
      ],
      "source": [
        "mol = \"water\"\n",
        "water_smile = cirpy.resolve(mol, \"smiles\")\n",
        "molecule = Chem.MolFromSmiles(water_smile)\n",
        "molecule"
      ]
    },
    {
      "cell_type": "code",
      "execution_count": 7,
      "metadata": {
        "colab": {
          "base_uri": "https://localhost:8080/",
          "height": 377
        },
        "id": "qDpl2KOroZGb",
        "outputId": "cd95094f-b867-438f-f18e-38b1a1001716"
      },
      "outputs": [
        {
          "output_type": "display_data",
          "data": {
            "application/3dmoljs_load.v0": "<div id=\"3dmolviewer_17586180541297657\"  style=\"position: relative; width: 450px; height: 360px;\">\n        <p id=\"3dmolwarning_17586180541297657\" style=\"background-color:#ffcccc;color:black\">3Dmol.js failed to load for some reason.  Please check your browser console for error messages.<br></p>\n        </div>\n<script>\n\nvar loadScriptAsync = function(uri){\n  return new Promise((resolve, reject) => {\n    //this is to ignore the existence of requirejs amd\n    var savedexports, savedmodule;\n    if (typeof exports !== 'undefined') savedexports = exports;\n    else exports = {}\n    if (typeof module !== 'undefined') savedmodule = module;\n    else module = {}\n\n    var tag = document.createElement('script');\n    tag.src = uri;\n    tag.async = true;\n    tag.onload = () => {\n        exports = savedexports;\n        module = savedmodule;\n        resolve();\n    };\n  var firstScriptTag = document.getElementsByTagName('script')[0];\n  firstScriptTag.parentNode.insertBefore(tag, firstScriptTag);\n});\n};\n\nif(typeof $3Dmolpromise === 'undefined') {\n$3Dmolpromise = null;\n  $3Dmolpromise = loadScriptAsync('https://cdn.jsdelivr.net/npm/3dmol@2.5.2/build/3Dmol-min.js');\n}\n\nvar viewer_17586180541297657 = null;\nvar warn = document.getElementById(\"3dmolwarning_17586180541297657\");\nif(warn) {\n    warn.parentNode.removeChild(warn);\n}\n$3Dmolpromise.then(function() {\nviewer_17586180541297657 = $3Dmol.createViewer(document.getElementById(\"3dmolviewer_17586180541297657\"),{backgroundColor:\"white\"});\nviewer_17586180541297657.zoomTo();\n\tviewer_17586180541297657.addModel(\"\\n     RDKit          3D\\n\\n  3  2  0  0  0  0  0  0  0  0999 V2000\\n    0.0089    0.4040    0.0000 O   0  0  0  0  0  0  0  0  0  0  0  0\\n   -0.7873   -0.1847    0.0000 H   0  0  0  0  0  0  0  0  0  0  0  0\\n    0.7784   -0.2193    0.0000 H   0  0  0  0  0  0  0  0  0  0  0  0\\n  1  2  1  0\\n  1  3  1  0\\nM  END\\n\",\"sdf\");\n\tviewer_17586180541297657.setStyle({\"elem\": \"O\"},{\"stick\": {\"color\": \"red\", \"radius\": 0.2}, \"sphere\": {\"color\": \"red\", \"scale\": 0.35}});\n\tviewer_17586180541297657.setStyle({\"elem\": \"H\"},{\"stick\": {\"color\": \"white\", \"radius\": 0.2}, \"sphere\": {\"color\": \"white\", \"scale\": 0.35}});\n\tviewer_17586180541297657.setBackgroundColor(\"white\");\n\tviewer_17586180541297657.zoomTo();\nviewer_17586180541297657.render();\n});\n</script>",
            "text/html": [
              "<div id=\"3dmolviewer_17586180541297657\"  style=\"position: relative; width: 450px; height: 360px;\">\n",
              "        <p id=\"3dmolwarning_17586180541297657\" style=\"background-color:#ffcccc;color:black\">3Dmol.js failed to load for some reason.  Please check your browser console for error messages.<br></p>\n",
              "        </div>\n",
              "<script>\n",
              "\n",
              "var loadScriptAsync = function(uri){\n",
              "  return new Promise((resolve, reject) => {\n",
              "    //this is to ignore the existence of requirejs amd\n",
              "    var savedexports, savedmodule;\n",
              "    if (typeof exports !== 'undefined') savedexports = exports;\n",
              "    else exports = {}\n",
              "    if (typeof module !== 'undefined') savedmodule = module;\n",
              "    else module = {}\n",
              "\n",
              "    var tag = document.createElement('script');\n",
              "    tag.src = uri;\n",
              "    tag.async = true;\n",
              "    tag.onload = () => {\n",
              "        exports = savedexports;\n",
              "        module = savedmodule;\n",
              "        resolve();\n",
              "    };\n",
              "  var firstScriptTag = document.getElementsByTagName('script')[0];\n",
              "  firstScriptTag.parentNode.insertBefore(tag, firstScriptTag);\n",
              "});\n",
              "};\n",
              "\n",
              "if(typeof $3Dmolpromise === 'undefined') {\n",
              "$3Dmolpromise = null;\n",
              "  $3Dmolpromise = loadScriptAsync('https://cdn.jsdelivr.net/npm/3dmol@2.5.2/build/3Dmol-min.js');\n",
              "}\n",
              "\n",
              "var viewer_17586180541297657 = null;\n",
              "var warn = document.getElementById(\"3dmolwarning_17586180541297657\");\n",
              "if(warn) {\n",
              "    warn.parentNode.removeChild(warn);\n",
              "}\n",
              "$3Dmolpromise.then(function() {\n",
              "viewer_17586180541297657 = $3Dmol.createViewer(document.getElementById(\"3dmolviewer_17586180541297657\"),{backgroundColor:\"white\"});\n",
              "viewer_17586180541297657.zoomTo();\n",
              "\tviewer_17586180541297657.addModel(\"\\n     RDKit          3D\\n\\n  3  2  0  0  0  0  0  0  0  0999 V2000\\n    0.0089    0.4040    0.0000 O   0  0  0  0  0  0  0  0  0  0  0  0\\n   -0.7873   -0.1847    0.0000 H   0  0  0  0  0  0  0  0  0  0  0  0\\n    0.7784   -0.2193    0.0000 H   0  0  0  0  0  0  0  0  0  0  0  0\\n  1  2  1  0\\n  1  3  1  0\\nM  END\\n\",\"sdf\");\n",
              "\tviewer_17586180541297657.setStyle({\"elem\": \"O\"},{\"stick\": {\"color\": \"red\", \"radius\": 0.2}, \"sphere\": {\"color\": \"red\", \"scale\": 0.35}});\n",
              "\tviewer_17586180541297657.setStyle({\"elem\": \"H\"},{\"stick\": {\"color\": \"white\", \"radius\": 0.2}, \"sphere\": {\"color\": \"white\", \"scale\": 0.35}});\n",
              "\tviewer_17586180541297657.setBackgroundColor(\"white\");\n",
              "\tviewer_17586180541297657.zoomTo();\n",
              "viewer_17586180541297657.render();\n",
              "});\n",
              "</script>"
            ]
          },
          "metadata": {}
        }
      ],
      "source": [
        "# Code to visualize ball and stick model of molecules\n",
        "mol3d = Chem.AddHs(molecule)\n",
        "AllChem.EmbedMolecule(mol3d, AllChem.ETKDGv3())\n",
        "AllChem.UFFOptimizeMolecule(mol3d)\n",
        "mb = Chem.MolToMolBlock(mol3d)\n",
        "\n",
        "#Visualize the molecule\n",
        "view = py3Dmol.view(width=450, height=360)\n",
        "view.addModel(mb, 'sdf')\n",
        "view.setStyle({'elem': 'O'}, {'stick': {'color': 'red', 'radius': 0.2},\n",
        "                              'sphere': {'color': 'red', 'scale': 0.35}})\n",
        "view.setStyle({'elem': 'H'}, {'stick': {'color': 'white', 'radius': 0.2},\n",
        "                              'sphere': {'color': 'white', 'scale': 0.35}})\n",
        "view.setBackgroundColor('white')\n",
        "view.zoomTo()\n",
        "view.show()"
      ]
    }
  ],
  "metadata": {
    "kernelspec": {
      "display_name": "Python 3",
      "language": "python",
      "name": "python3"
    },
    "language_info": {
      "codemirror_mode": {
        "name": "ipython",
        "version": 3
      },
      "file_extension": ".py",
      "mimetype": "text/x-python",
      "name": "python",
      "nbconvert_exporter": "python",
      "pygments_lexer": "ipython3",
      "version": "3.9.18"
    },
    "colab": {
      "provenance": []
    }
  },
  "nbformat": 4,
  "nbformat_minor": 0
}