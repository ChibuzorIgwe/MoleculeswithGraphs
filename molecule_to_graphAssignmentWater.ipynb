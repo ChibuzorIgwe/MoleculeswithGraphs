{
  "cells": [
    {
      "cell_type": "markdown",
      "metadata": {
        "id": "PDc0qZS6uu0B"
      },
      "source": [
        "\n",
        "# Convert a molecule from SMILE to a computational graph\n",
        "\n",
        "This tutorial is a natural continuation of the Basic Ball and Stick Models from SMILES.\n",
        "It shows how we can extract any molecule\n"
      ]
    },
    {
      "cell_type": "code",
      "source": [
        "!pip install rdkit\n",
        "\n",
        "!pip install cirpy"
      ],
      "metadata": {
        "colab": {
          "base_uri": "https://localhost:8080/"
        },
        "id": "fkjIFlg6uyHP",
        "outputId": "eaf6e8ad-03dd-44e0-f6b3-541ac4b7b878"
      },
      "execution_count": 3,
      "outputs": [
        {
          "output_type": "stream",
          "name": "stdout",
          "text": [
            "Collecting rdkit\n",
            "  Downloading rdkit-2025.3.6-cp312-cp312-manylinux_2_28_x86_64.whl.metadata (4.1 kB)\n",
            "Requirement already satisfied: numpy in /usr/local/lib/python3.12/dist-packages (from rdkit) (2.0.2)\n",
            "Requirement already satisfied: Pillow in /usr/local/lib/python3.12/dist-packages (from rdkit) (11.3.0)\n",
            "Downloading rdkit-2025.3.6-cp312-cp312-manylinux_2_28_x86_64.whl (36.1 MB)\n",
            "\u001b[2K   \u001b[90m━━━━━━━━━━━━━━━━━━━━━━━━━━━━━━━━━━━━━━━━\u001b[0m \u001b[32m36.1/36.1 MB\u001b[0m \u001b[31m37.6 MB/s\u001b[0m eta \u001b[36m0:00:00\u001b[0m\n",
            "\u001b[?25hInstalling collected packages: rdkit\n",
            "Successfully installed rdkit-2025.3.6\n",
            "Collecting cirpy\n",
            "  Downloading CIRpy-1.0.2.tar.gz (20 kB)\n",
            "  Preparing metadata (setup.py) ... \u001b[?25l\u001b[?25hdone\n",
            "Building wheels for collected packages: cirpy\n",
            "  Building wheel for cirpy (setup.py) ... \u001b[?25l\u001b[?25hdone\n",
            "  Created wheel for cirpy: filename=CIRpy-1.0.2-py3-none-any.whl size=7263 sha256=22de1c7607f58c7c955060cda1b94df05d94dc35a570e0cf126d46b1ae780045\n",
            "  Stored in directory: /root/.cache/pip/wheels/af/e9/40/07942590380fbfa8fdfc46197f440ecb58eeddbea4f07758be\n",
            "Successfully built cirpy\n",
            "Installing collected packages: cirpy\n",
            "Successfully installed cirpy-1.0.2\n"
          ]
        }
      ]
    },
    {
      "cell_type": "code",
      "source": [
        "!pip install py3Dmol"
      ],
      "metadata": {
        "colab": {
          "base_uri": "https://localhost:8080/"
        },
        "id": "2RPfdmExvFAh",
        "outputId": "bdcd63df-ad5a-4890-d625-4d6a27479375"
      },
      "execution_count": 4,
      "outputs": [
        {
          "output_type": "stream",
          "name": "stdout",
          "text": [
            "Collecting py3Dmol\n",
            "  Downloading py3dmol-2.5.2-py2.py3-none-any.whl.metadata (2.1 kB)\n",
            "Downloading py3dmol-2.5.2-py2.py3-none-any.whl (7.2 kB)\n",
            "Installing collected packages: py3Dmol\n",
            "Successfully installed py3Dmol-2.5.2\n"
          ]
        }
      ]
    },
    {
      "cell_type": "code",
      "source": [
        "!pip install torch_geometric"
      ],
      "metadata": {
        "colab": {
          "base_uri": "https://localhost:8080/"
        },
        "id": "HKpvZaQ9xf0L",
        "outputId": "e46c3048-4c46-41a4-8241-42c4a0007d39"
      },
      "execution_count": 6,
      "outputs": [
        {
          "output_type": "stream",
          "name": "stdout",
          "text": [
            "Collecting torch_geometric\n",
            "  Downloading torch_geometric-2.6.1-py3-none-any.whl.metadata (63 kB)\n",
            "\u001b[?25l     \u001b[90m━━━━━━━━━━━━━━━━━━━━━━━━━━━━━━━━━━━━━━━━\u001b[0m \u001b[32m0.0/63.1 kB\u001b[0m \u001b[31m?\u001b[0m eta \u001b[36m-:--:--\u001b[0m\r\u001b[2K     \u001b[90m━━━━━━━━━━━━━━━━━━━━━━━━━━━━━━━━━━━━━━━━\u001b[0m \u001b[32m63.1/63.1 kB\u001b[0m \u001b[31m2.9 MB/s\u001b[0m eta \u001b[36m0:00:00\u001b[0m\n",
            "\u001b[?25hRequirement already satisfied: aiohttp in /usr/local/lib/python3.12/dist-packages (from torch_geometric) (3.12.15)\n",
            "Requirement already satisfied: fsspec in /usr/local/lib/python3.12/dist-packages (from torch_geometric) (2025.3.0)\n",
            "Requirement already satisfied: jinja2 in /usr/local/lib/python3.12/dist-packages (from torch_geometric) (3.1.6)\n",
            "Requirement already satisfied: numpy in /usr/local/lib/python3.12/dist-packages (from torch_geometric) (2.0.2)\n",
            "Requirement already satisfied: psutil>=5.8.0 in /usr/local/lib/python3.12/dist-packages (from torch_geometric) (5.9.5)\n",
            "Requirement already satisfied: pyparsing in /usr/local/lib/python3.12/dist-packages (from torch_geometric) (3.2.4)\n",
            "Requirement already satisfied: requests in /usr/local/lib/python3.12/dist-packages (from torch_geometric) (2.32.4)\n",
            "Requirement already satisfied: tqdm in /usr/local/lib/python3.12/dist-packages (from torch_geometric) (4.67.1)\n",
            "Requirement already satisfied: aiohappyeyeballs>=2.5.0 in /usr/local/lib/python3.12/dist-packages (from aiohttp->torch_geometric) (2.6.1)\n",
            "Requirement already satisfied: aiosignal>=1.4.0 in /usr/local/lib/python3.12/dist-packages (from aiohttp->torch_geometric) (1.4.0)\n",
            "Requirement already satisfied: attrs>=17.3.0 in /usr/local/lib/python3.12/dist-packages (from aiohttp->torch_geometric) (25.3.0)\n",
            "Requirement already satisfied: frozenlist>=1.1.1 in /usr/local/lib/python3.12/dist-packages (from aiohttp->torch_geometric) (1.7.0)\n",
            "Requirement already satisfied: multidict<7.0,>=4.5 in /usr/local/lib/python3.12/dist-packages (from aiohttp->torch_geometric) (6.6.4)\n",
            "Requirement already satisfied: propcache>=0.2.0 in /usr/local/lib/python3.12/dist-packages (from aiohttp->torch_geometric) (0.3.2)\n",
            "Requirement already satisfied: yarl<2.0,>=1.17.0 in /usr/local/lib/python3.12/dist-packages (from aiohttp->torch_geometric) (1.20.1)\n",
            "Requirement already satisfied: MarkupSafe>=2.0 in /usr/local/lib/python3.12/dist-packages (from jinja2->torch_geometric) (3.0.2)\n",
            "Requirement already satisfied: charset_normalizer<4,>=2 in /usr/local/lib/python3.12/dist-packages (from requests->torch_geometric) (3.4.3)\n",
            "Requirement already satisfied: idna<4,>=2.5 in /usr/local/lib/python3.12/dist-packages (from requests->torch_geometric) (3.10)\n",
            "Requirement already satisfied: urllib3<3,>=1.21.1 in /usr/local/lib/python3.12/dist-packages (from requests->torch_geometric) (2.5.0)\n",
            "Requirement already satisfied: certifi>=2017.4.17 in /usr/local/lib/python3.12/dist-packages (from requests->torch_geometric) (2025.8.3)\n",
            "Requirement already satisfied: typing-extensions>=4.2 in /usr/local/lib/python3.12/dist-packages (from aiosignal>=1.4.0->aiohttp->torch_geometric) (4.15.0)\n",
            "Downloading torch_geometric-2.6.1-py3-none-any.whl (1.1 MB)\n",
            "\u001b[2K   \u001b[90m━━━━━━━━━━━━━━━━━━━━━━━━━━━━━━━━━━━━━━━━\u001b[0m \u001b[32m1.1/1.1 MB\u001b[0m \u001b[31m21.3 MB/s\u001b[0m eta \u001b[36m0:00:00\u001b[0m\n",
            "\u001b[?25hInstalling collected packages: torch_geometric\n",
            "Successfully installed torch_geometric-2.6.1\n"
          ]
        }
      ]
    },
    {
      "cell_type": "code",
      "execution_count": 7,
      "metadata": {
        "id": "leUW1O-duu0E"
      },
      "outputs": [],
      "source": [
        "from rdkit import Chem\n",
        "from rdkit.Chem.Draw import IPythonConsole\n",
        "from rdkit.Chem import AllChem\n",
        "import py3Dmol\n",
        "import cirpy\n",
        "from torch_geometric.utils import from_smiles"
      ]
    },
    {
      "cell_type": "markdown",
      "metadata": {
        "id": "k7uhXBbPuu0G"
      },
      "source": [
        "We can easily obtain the graph representation of a molecule from its SMILE string using `torch_geometric.utils.from_smiles`"
      ]
    },
    {
      "cell_type": "code",
      "execution_count": 11,
      "metadata": {
        "colab": {
          "base_uri": "https://localhost:8080/"
        },
        "id": "ASEVzdnBuu0H",
        "outputId": "d2520654-5f7c-456e-a671-b6c0828d5ed2"
      },
      "outputs": [
        {
          "output_type": "stream",
          "name": "stdout",
          "text": [
            "The summary of molecule's 'data' is: Data(x=[3, 9], edge_index=[2, 4], edge_attr=[4, 3], smiles='O')\n"
          ]
        }
      ],
      "source": [
        "mol = \"water\"\n",
        "water_smile = cirpy.resolve(mol, \"smiles\")\n",
        "\n",
        "data = from_smiles(water_smile, with_hydrogen=True) #this extracts the graph representation of the molecule\n",
        "\n",
        "print(f\"The summary of molecule's 'data' is: {data}\")\n"
      ]
    },
    {
      "cell_type": "markdown",
      "metadata": {
        "id": "_gSOwzeMuu0I"
      },
      "source": [
        "Display some properties of the graph, node, and edges"
      ]
    },
    {
      "cell_type": "code",
      "execution_count": 9,
      "metadata": {
        "colab": {
          "base_uri": "https://localhost:8080/"
        },
        "id": "m_sx_frDuu0J",
        "outputId": "87751fcb-78af-42fa-ae94-8d2d6e377ef5"
      },
      "outputs": [
        {
          "output_type": "stream",
          "name": "stdout",
          "text": [
            "The number of nodes in graph is: 3\n",
            "The number of edges in graph is: 4\n",
            "The number of node features in graph is: 9\n",
            "The number of edge features in graph is: 3\n",
            "The shape of the node feature matrix is: torch.Size([3, 9])\n",
            "The shape of the edge index list/ or two-column matrix is: torch.Size([4, 2])\n",
            "The shape of the edge attribute matrix is: torch.Size([4, 3])\n",
            "The node features of an atom in the graph are: tensor([8, 0, 2, 5, 0, 0, 4, 0, 0])\n",
            "The node features of the graph are: tensor([[8, 0, 2, 5, 0, 0, 4, 0, 0],\n",
            "        [1, 0, 1, 5, 0, 0, 0, 0, 0],\n",
            "        [1, 0, 1, 5, 0, 0, 0, 0, 0]])\n"
          ]
        }
      ],
      "source": [
        "print(f\"The number of nodes in graph is: {data.x.shape[0]}\")\n",
        "print(f\"The number of edges in graph is: {data.edge_index.t().shape[0]}\")\n",
        "print(f\"The number of node features in graph is: {data.x.shape[1]}\")\n",
        "print(f\"The number of edge features in graph is: {data.edge_attr.shape[1]}\")\n",
        "\n",
        "\n",
        "print(f\"The shape of the node feature matrix is: {data.x.shape}\")\n",
        "print(f\"The shape of the edge index list/ or two-column matrix is: {data.edge_index.t().shape}\")\n",
        "print(f\"The shape of the edge attribute matrix is: {data.edge_attr.shape}\")\n",
        "\n",
        "print(f\"The node features of an atom in the graph are: {data.x[0]}\")\n",
        "print(f\"The node features of the graph are: {data.x}\")"
      ]
    },
    {
      "cell_type": "code",
      "execution_count": 12,
      "metadata": {
        "colab": {
          "base_uri": "https://localhost:8080/",
          "height": 167
        },
        "id": "xsNbtq9quu0K",
        "outputId": "b83fe2eb-7c92-43dc-f158-c7e4bc62ca59"
      },
      "outputs": [
        {
          "output_type": "execute_result",
          "data": {
            "text/plain": [
              "<rdkit.Chem.rdchem.Mol at 0x7fd60b6a78b0>"
            ],
            "image/png": "[encoded data removed]"
          },
          "metadata": {},
          "execution_count": 12
        }
      ],
      "source": [
        "molecule = Chem.MolFromSmiles(water_smile)\n",
        "molecule"
      ]
    },
    {
      "cell_type": "markdown",
      "metadata": {
        "id": "JO8kwv2Cuu0L"
      },
      "source": [
        "Display some of the node or atom features in a molecule (or graph)"
      ]
    },
    {
      "cell_type": "code",
      "execution_count": 13,
      "metadata": {
        "colab": {
          "base_uri": "https://localhost:8080/"
        },
        "id": "AZ_1XLsiuu0M",
        "outputId": "3ce29391-6779-4799-d9c7-fb3aeeed23e7"
      },
      "outputs": [
        {
          "output_type": "stream",
          "name": "stdout",
          "text": [
            "Atomic Number: 8\n",
            "Atom Index: 0\n",
            "Atom Mass: 15.999\n",
            "Atom Degree: 0\n",
            "Atom Hybridization: SP3\n",
            "Atom Is Aromatic: False\n",
            "Atom Is In Ring: False\n",
            "Atom Type: O\n",
            "Formal Charge: 0\n",
            "Chirality: CHI_UNSPECIFIED\n",
            "Number of Hydrogens: 2\n"
          ]
        }
      ],
      "source": [
        "atom = molecule.GetAtomWithIdx(0) #Grab the first atom\n",
        "\n",
        "print(f\"Atomic Number: {atom.GetAtomicNum()}\")\n",
        "print(f\"Atom Index: {atom.GetIdx()}\")\n",
        "print(f\"Atom Mass: {atom.GetMass()}\")\n",
        "print(f\"Atom Degree: {atom.GetDegree()}\")\n",
        "print(f\"Atom Hybridization: {atom.GetHybridization()}\")\n",
        "print(f\"Atom Is Aromatic: {atom.GetIsAromatic()}\")\n",
        "print(f\"Atom Is In Ring: {atom.IsInRing()}\")\n",
        "print(f\"Atom Type: {atom.GetSymbol()}\")\n",
        "print(f\"Formal Charge: {atom.GetFormalCharge()}\")\n",
        "print(f\"Chirality: {atom.GetChiralTag()}\")\n",
        "print(f\"Number of Hydrogens: {atom.GetTotalNumHs()}\")\n"
      ]
    },
    {
      "cell_type": "code",
      "execution_count": 14,
      "metadata": {
        "colab": {
          "base_uri": "https://localhost:8080/",
          "height": 377
        },
        "id": "HeyDMLecuu0N",
        "outputId": "763f0ecd-4dcb-4e95-d901-8bf6a33c914d"
      },
      "outputs": [
        {
          "output_type": "display_data",
          "data": {
            "application/3dmoljs_load.v0": "<div id=\"3dmolviewer_17586176691457412\"  style=\"position: relative; width: 450px; height: 360px;\">\n        <p id=\"3dmolwarning_17586176691457412\" style=\"background-color:#ffcccc;color:black\">3Dmol.js failed to load for some reason.  Please check your browser console for error messages.<br></p>\n        </div>\n<script>\n\nvar loadScriptAsync = function(uri){\n  return new Promise((resolve, reject) => {\n    //this is to ignore the existence of requirejs amd\n    var savedexports, savedmodule;\n    if (typeof exports !== 'undefined') savedexports = exports;\n    else exports = {}\n    if (typeof module !== 'undefined') savedmodule = module;\n    else module = {}\n\n    var tag = document.createElement('script');\n    tag.src = uri;\n    tag.async = true;\n    tag.onload = () => {\n        exports = savedexports;\n        module = savedmodule;\n        resolve();\n    };\n  var firstScriptTag = document.getElementsByTagName('script')[0];\n  firstScriptTag.parentNode.insertBefore(tag, firstScriptTag);\n});\n};\n\nif(typeof $3Dmolpromise === 'undefined') {\n$3Dmolpromise = null;\n  $3Dmolpromise = loadScriptAsync('https://cdn.jsdelivr.net/npm/3dmol@2.5.2/build/3Dmol-min.js');\n}\n\nvar viewer_17586176691457412 = null;\nvar warn = document.getElementById(\"3dmolwarning_17586176691457412\");\nif(warn) {\n    warn.parentNode.removeChild(warn);\n}\n$3Dmolpromise.then(function() {\nviewer_17586176691457412 = $3Dmol.createViewer(document.getElementById(\"3dmolviewer_17586176691457412\"),{backgroundColor:\"white\"});\nviewer_17586176691457412.zoomTo();\n\tviewer_17586176691457412.addModel(\"\\n     RDKit          3D\\n\\n  3  2  0  0  0  0  0  0  0  0999 V2000\\n    0.0089    0.4040    0.0000 O   0  0  0  0  0  0  0  0  0  0  0  0\\n   -0.7873   -0.1847    0.0000 H   0  0  0  0  0  0  0  0  0  0  0  0\\n    0.7784   -0.2193    0.0000 H   0  0  0  0  0  0  0  0  0  0  0  0\\n  1  2  1  0\\n  1  3  1  0\\nM  END\\n\",\"sdf\");\n\tviewer_17586176691457412.setStyle({\"elem\": \"O\"},{\"stick\": {\"color\": \"red\", \"radius\": 0.2}, \"sphere\": {\"color\": \"red\", \"scale\": 0.35}});\n\tviewer_17586176691457412.setStyle({\"elem\": \"H\"},{\"stick\": {\"color\": \"white\", \"radius\": 0.2}, \"sphere\": {\"color\": \"white\", \"scale\": 0.35}});\n\tviewer_17586176691457412.setBackgroundColor(\"white\");\n\tviewer_17586176691457412.zoomTo();\nviewer_17586176691457412.render();\n});\n</script>",
            "text/html": [
              "<div id=\"3dmolviewer_17586176691457412\"  style=\"position: relative; width: 450px; height: 360px;\">\n",
              "        <p id=\"3dmolwarning_17586176691457412\" style=\"background-color:#ffcccc;color:black\">3Dmol.js failed to load for some reason.  Please check your browser console for error messages.<br></p>\n",
              "        </div>\n",
              "<script>\n",
              "\n",
              "var loadScriptAsync = function(uri){\n",
              "  return new Promise((resolve, reject) => {\n",
              "    //this is to ignore the existence of requirejs amd\n",
              "    var savedexports, savedmodule;\n",
              "    if (typeof exports !== 'undefined') savedexports = exports;\n",
              "    else exports = {}\n",
              "    if (typeof module !== 'undefined') savedmodule = module;\n",
              "    else module = {}\n",
              "\n",
              "    var tag = document.createElement('script');\n",
              "    tag.src = uri;\n",
              "    tag.async = true;\n",
              "    tag.onload = () => {\n",
              "        exports = savedexports;\n",
              "        module = savedmodule;\n",
              "        resolve();\n",
              "    };\n",
              "  var firstScriptTag = document.getElementsByTagName('script')[0];\n",
              "  firstScriptTag.parentNode.insertBefore(tag, firstScriptTag);\n",
              "});\n",
              "};\n",
              "\n",
              "if(typeof $3Dmolpromise === 'undefined') {\n",
              "$3Dmolpromise = null;\n",
              "  $3Dmolpromise = loadScriptAsync('https://cdn.jsdelivr.net/npm/3dmol@2.5.2/build/3Dmol-min.js');\n",
              "}\n",
              "\n",
              "var viewer_17586176691457412 = null;\n",
              "var warn = document.getElementById(\"3dmolwarning_17586176691457412\");\n",
              "if(warn) {\n",
              "    warn.parentNode.removeChild(warn);\n",
              "}\n",
              "$3Dmolpromise.then(function() {\n",
              "viewer_17586176691457412 = $3Dmol.createViewer(document.getElementById(\"3dmolviewer_17586176691457412\"),{backgroundColor:\"white\"});\n",
              "viewer_17586176691457412.zoomTo();\n",
              "\tviewer_17586176691457412.addModel(\"\\n     RDKit          3D\\n\\n  3  2  0  0  0  0  0  0  0  0999 V2000\\n    0.0089    0.4040    0.0000 O   0  0  0  0  0  0  0  0  0  0  0  0\\n   -0.7873   -0.1847    0.0000 H   0  0  0  0  0  0  0  0  0  0  0  0\\n    0.7784   -0.2193    0.0000 H   0  0  0  0  0  0  0  0  0  0  0  0\\n  1  2  1  0\\n  1  3  1  0\\nM  END\\n\",\"sdf\");\n",
              "\tviewer_17586176691457412.setStyle({\"elem\": \"O\"},{\"stick\": {\"color\": \"red\", \"radius\": 0.2}, \"sphere\": {\"color\": \"red\", \"scale\": 0.35}});\n",
              "\tviewer_17586176691457412.setStyle({\"elem\": \"H\"},{\"stick\": {\"color\": \"white\", \"radius\": 0.2}, \"sphere\": {\"color\": \"white\", \"scale\": 0.35}});\n",
              "\tviewer_17586176691457412.setBackgroundColor(\"white\");\n",
              "\tviewer_17586176691457412.zoomTo();\n",
              "viewer_17586176691457412.render();\n",
              "});\n",
              "</script>"
            ]
          },
          "metadata": {}
        }
      ],
      "source": [
        "# Code to visualize ball and stick model of molecules\n",
        "mol3d = Chem.AddHs(molecule)\n",
        "AllChem.EmbedMolecule(mol3d, AllChem.ETKDGv3())\n",
        "AllChem.UFFOptimizeMolecule(mol3d)\n",
        "mb = Chem.MolToMolBlock(mol3d)\n",
        "\n",
        "#Visualize the molecule\n",
        "view = py3Dmol.view(width=450, height=360)\n",
        "view.addModel(mb, 'sdf')\n",
        "view.setStyle({'elem': 'O'}, {'stick': {'color': 'red', 'radius': 0.2},\n",
        "                              'sphere': {'color': 'red', 'scale': 0.35}})\n",
        "view.setStyle({'elem': 'H'}, {'stick': {'color': 'white', 'radius': 0.2},\n",
        "                              'sphere': {'color': 'white', 'scale': 0.35}})\n",
        "view.setBackgroundColor('white')\n",
        "view.zoomTo()\n",
        "view.show()"
      ]
    }
  ],
  "metadata": {
    "kernelspec": {
      "display_name": "Python 3",
      "language": "python",
      "name": "python3"
    },
    "language_info": {
      "codemirror_mode": {
        "name": "ipython",
        "version": 3
      },
      "file_extension": ".py",
      "mimetype": "text/x-python",
      "name": "python",
      "nbconvert_exporter": "python",
      "pygments_lexer": "ipython3",
      "version": "3.9.18"
    },
    "colab": {
      "provenance": []
    }
  },
  "nbformat": 4,
  "nbformat_minor": 0
}